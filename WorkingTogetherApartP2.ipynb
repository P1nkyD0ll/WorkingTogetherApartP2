{
  "nbformat": 4,
  "nbformat_minor": 0,
  "metadata": {
    "colab": {
      "provenance": [],
      "include_colab_link": true
    },
    "kernelspec": {
      "name": "python3",
      "display_name": "Python 3"
    },
    "language_info": {
      "name": "python"
    }
  },
  "cells": [
    {
      "cell_type": "markdown",
      "metadata": {
        "id": "view-in-github",
        "colab_type": "text"
      },
      "source": [
        "<a href=\"https://colab.research.google.com/github/P1nkyD0ll/WorkingTogetherApartP2/blob/main/WorkingTogetherApartP2.ipynb\" target=\"_parent\"><img src=\"https://colab.research.google.com/assets/colab-badge.svg\" alt=\"Open In Colab\"/></a>"
      ]
    },
    {
      "cell_type": "markdown",
      "source": [
        "Person 2"
      ],
      "metadata": {
        "id": "mIAAMnCC1zw4"
      }
    },
    {
      "cell_type": "code",
      "execution_count": 8,
      "metadata": {
        "id": "NHplVwsE1sFb",
        "outputId": "91d13620-0714-467f-9c02-5d4c61b0d6d8",
        "colab": {
          "base_uri": "https://localhost:8080/"
        }
      },
      "outputs": [
        {
          "output_type": "execute_result",
          "data": {
            "text/plain": [
              "(9.6, 3.5999999999999996)"
            ]
          },
          "metadata": {},
          "execution_count": 8
        }
      ],
      "source": [
        "def Bill(cost,tax):\n",
        "  taxnum = cost * tax\n",
        "  total = taxnum+cost\n",
        "  return (total,taxnum)\n",
        "\n",
        "  total , taxnum(60,0.6)\n",
        "\n",
        "  print(\"Your total is\",total)\n",
        "  print(\"Your tax is\",taxnum)\n",
        "\n",
        "Bill(6,0.6)\n"
      ]
    }
  ]
}