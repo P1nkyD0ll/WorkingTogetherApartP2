{
  "nbformat": 4,
  "nbformat_minor": 0,
  "metadata": {
    "colab": {
      "provenance": [],
      "include_colab_link": true
    },
    "kernelspec": {
      "name": "python3",
      "display_name": "Python 3"
    },
    "language_info": {
      "name": "python"
    }
  },
  "cells": [
    {
      "cell_type": "markdown",
      "metadata": {
        "id": "view-in-github",
        "colab_type": "text"
      },
      "source": [
        "<a href=\"https://colab.research.google.com/github/P1nkyD0ll/WorkingTogetherApartP2/blob/Anthony's-work/WorkingTogetherApartP2.ipynb\" target=\"_parent\"><img src=\"https://colab.research.google.com/assets/colab-badge.svg\" alt=\"Open In Colab\"/></a>"
      ]
    },
    {
      "cell_type": "markdown",
      "source": [
        "Person 1"
      ],
      "metadata": {
        "id": "ewgO_YdLddiX"
      }
    },
    {
      "cell_type": "code",
      "source": [
        "def Restaurant():\n",
        "\n",
        "  print(\"Welcome to Anthony & Talen's Crispy Coop! Here is the menu\")\n",
        "  CrispyCoop = {\n",
        "\n",
        "        1: (\"Anthony & Talen's Signature Crispy Chicken Sandwich \", 18.00),\n",
        "        2: (\"Seasoned Waffle Fries\", 10.00),\n",
        "        3: (\"Talen's Tangy Lemonade\", 8.50),\n",
        "        4: (\"Anthony's Creamy Dream Shake\", 8.88),\n",
        "        5: (\"Spicy Honey Glazed Chicken Wrap\", 15.00),\n",
        "        6: (\"Anthony's Zesty Zing Burger\", 19.50),\n",
        "        7: (\"T's Teriyaki Rice Bowl\", 17.30),\n",
        "        8: (\"Caramel Crunch Cake\", 15.00),\n",
        "        9: (\"Talen's Tropical Dream Pie\", 20.00),\n",
        "        10:(\"Griffin's Gourmet Gnocchi Supreme\", 36.00)\n",
        "    }\n",
        "\n",
        "  order = {}\n",
        "\n",
        "  print(\"Menu:\")\n",
        "  for number,item_info in CrispyCoop.items():\n",
        "    item, price = item_info\n",
        "    print (f\"{number}. {item}: ${price}\")\n",
        "\n",
        "  while True:\n",
        "\n",
        "    choice = input(\"What would you like to order? (Enter item number then 'done' to show  without tax)\")\n",
        "\n",
        "    if choice == 'done':\n",
        "      break\n",
        "\n",
        "    if choice.isdigit() and int(choice) in CrispyCoop:\n",
        "      selected_item = CrispyCoop [int(choice)][0]\n",
        "      if selected_item in order:\n",
        "        order[selected_item] += 1\n",
        "      else:\n",
        "        order[selected_item] = 1\n",
        "    else:\n",
        "      print(\"Not an option. Try again...\")\n",
        "\n",
        "\n",
        "#---------------------------------------------------#\n",
        "\n",
        "  print(\"/nYour Order:\")\n",
        "  total_price = 0\n",
        "  for item, quantity in order.items():\n",
        "      price_per_item = CrispyCoop[[key for key, value in CrispyCoop.items() if value[0] == item][0]][1]\n",
        "      total_price += price_per_item * quantity\n",
        "      print(f\"{item} x{quantity}: ${price_per_item * quantity:.2f}\")\n",
        "\n",
        "\n",
        "\n",
        "  print(f\"\\nTotal Price: ${total_price:.2f}\")\n",
        "\n",
        "Restaurant()\n",
        "\n",
        "\n",
        "\n",
        "\n",
        "\n"
      ],
      "metadata": {
        "id": "ECJYRK3zdf2l",
        "outputId": "7a10b88a-b104-4729-db2f-3bbb10bf95ef",
        "colab": {
          "base_uri": "https://localhost:8080/"
        }
      },
      "execution_count": null,
      "outputs": [
        {
          "output_type": "stream",
          "name": "stdout",
          "text": [
            "Welcome to Anthony & Talen's Crispy Coop! Here is the menu\n",
            "Menu:\n",
            "1. Anthony & Talen's Signature Crispy Chicken Sandwich : $18.0\n",
            "2. Seasoned Waffle Fries: $10.0\n",
            "3. Talen's Tangy Lemonade: $8.5\n",
            "4. Anthony's Creamy Dream Shake: $8.88\n",
            "5. Spicy Honey Glazed Chicken Wrap: $15.0\n",
            "6. Anthony's Zesty Zing Burger: $19.5\n",
            "7. T's Teriyaki Rice Bowl: $17.3\n",
            "8. Caramel Crunch Cake: $15.0\n",
            "9. Talen's Tropical Dream Pie: $20.0\n",
            "10. Griffin's Gourmet Gnocchi Supreme: $36.0\n",
            "What would you like to order? (Enter item number then 'done' to show  without tax)1\n",
            "What would you like to order? (Enter item number then 'done' to show  without tax)2\n",
            "What would you like to order? (Enter item number then 'done' to show  without tax)3\n",
            "What would you like to order? (Enter item number then 'done' to show  without tax)4\n",
            "What would you like to order? (Enter item number then 'done' to show  without tax)done\n",
            "/nYour Order:\n",
            "Anthony & Talen's Signature Crispy Chicken Sandwich  x1: $18.00\n",
            "Seasoned Waffle Fries x1: $10.00\n",
            "Talen's Tangy Lemonade x1: $8.50\n",
            "Anthony's Creamy Dream Shake x1: $8.88\n",
            "\n",
            "Total Price: $45.38\n"
          ]
        }
      ]
    },
    {
      "cell_type": "markdown",
      "source": [
        "Person 2"
      ],
      "metadata": {
        "id": "mIAAMnCC1zw4"
      }
    },
    {
      "cell_type": "code",
      "execution_count": null,
      "metadata": {
        "id": "NHplVwsE1sFb",
        "outputId": "91d13620-0714-467f-9c02-5d4c61b0d6d8",
        "colab": {
          "base_uri": "https://localhost:8080/"
        }
      },
      "outputs": [
        {
          "output_type": "execute_result",
          "data": {
            "text/plain": [
              "(9.6, 3.5999999999999996)"
            ]
          },
          "metadata": {},
          "execution_count": 8
        }
      ],
      "source": [
        "def Bill(cost,tax):\n",
        "  taxnum = cost * tax\n",
        "  total = taxnum+cost\n",
        "  return (total,taxnum)\n",
        "\n",
        "  total , taxnum(60,0.6)\n",
        "\n",
        "  print(\"Your total is\",total)\n",
        "  print(\"Your tax is\",taxnum)\n",
        "\n",
        "Bill(6,0.6)\n"
      ]
    }
  ]
}